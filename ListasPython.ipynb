{
 "cells": [
  {
   "cell_type": "code",
   "execution_count": 4,
   "id": "24e01e0e-d3c0-40b4-9c05-d0564b9a9ecd",
   "metadata": {},
   "outputs": [
    {
     "name": "stdout",
     "output_type": "stream",
     "text": [
      "['Alan', 'Banshee', 'readline', 123, True]\n"
     ]
    }
   ],
   "source": [
    "bicycles = ['Alan', 'Banshee', 'readline', 123, True]\n",
    "print(bicycles)"
   ]
  },
  {
   "cell_type": "markdown",
   "id": "26586189-b365-4cf7-ba68-aaa1698c4157",
   "metadata": {},
   "source": [
    "Constantes en Python (NO EXISTEN) pero por convencion se registran en MAYUSCULAS"
   ]
  },
  {
   "cell_type": "code",
   "execution_count": 6,
   "id": "f9608cad-a649-45a3-9ccc-e3dc8dbc9c90",
   "metadata": {},
   "outputs": [
    {
     "name": "stdout",
     "output_type": "stream",
     "text": [
      "100\n"
     ]
    }
   ],
   "source": [
    "MAX_LIMIT_RANGE = 100\n",
    "print(MAX_LIMIT_RANGE)"
   ]
  },
  {
   "cell_type": "code",
   "execution_count": 8,
   "id": "815b545f-5e3e-43f4-bd79-cffdc120f2c1",
   "metadata": {},
   "outputs": [
    {
     "name": "stdout",
     "output_type": "stream",
     "text": [
      "Banshee\n",
      "True\n"
     ]
    }
   ],
   "source": [
    "print(bicycles[1])\n",
    "print(bicycles[4])"
   ]
  },
  {
   "cell_type": "code",
   "execution_count": 17,
   "id": "2b6e2a12-ec3d-4845-bcaa-067ca524f2e4",
   "metadata": {},
   "outputs": [
    {
     "name": "stdout",
     "output_type": "stream",
     "text": [
      "My bicycle is Marca patito\n"
     ]
    }
   ],
   "source": [
    "# Puedo aplicar metodos a cada valor de la lista\n",
    "bicycles[1] = \"marca patito\"\n",
    "message = f\"My bicycle is {bicycles[1].title()}\"\n",
    "message = f\"My bicycle is {bicycles[1].capitalize()}\"\n",
    "print(message)"
   ]
  },
  {
   "cell_type": "code",
   "execution_count": 18,
   "id": "830504d3-6306-49c3-80ef-e0db98f171b1",
   "metadata": {},
   "outputs": [],
   "source": [
    "## Metodos para listas"
   ]
  },
  {
   "cell_type": "code",
   "execution_count": 35,
   "id": "730fc61c-6368-4236-b62f-ba709013b1a7",
   "metadata": {},
   "outputs": [
    {
     "name": "stdout",
     "output_type": "stream",
     "text": [
      "['Ducati', 'Honda', 'Kawasaki', 'Italika']\n"
     ]
    }
   ],
   "source": [
    "motorcycles = []\n",
    "motorcycles.append(\"Ducati\")\n",
    "motorcycles.append(\"Honda\")\n",
    "motorcycles.append(\"Kawasaki\")\n",
    "motorcycles.append(\"Italika\")\n",
    "print(motorcycles)"
   ]
  },
  {
   "cell_type": "code",
   "execution_count": 24,
   "id": "c8fe41c8-fb77-4e9d-8261-47cac882dbc5",
   "metadata": {},
   "outputs": [
    {
     "name": "stdout",
     "output_type": "stream",
     "text": [
      "['Ducati', 'Harley Queen', 'Honda', 'Kawasaki']\n"
     ]
    }
   ],
   "source": [
    "motorcycles.insert(1, 'Harley Queen')\n",
    "print(motorcycles)"
   ]
  },
  {
   "cell_type": "code",
   "execution_count": 26,
   "id": "a32d6968-5e16-44ca-ada8-1d4ffe0a935c",
   "metadata": {},
   "outputs": [
    {
     "name": "stdout",
     "output_type": "stream",
     "text": [
      "['Ducati', 'Harley Queen', 'Honda']\n",
      "['Ducati', 'Harley Queen']\n"
     ]
    }
   ],
   "source": [
    "motorcycles.pop()\n",
    "print(motorcycles)\n"
   ]
  },
  {
   "cell_type": "code",
   "execution_count": 32,
   "id": "0370d223-7d83-4423-a255-8f41d047bf72",
   "metadata": {},
   "outputs": [
    {
     "name": "stdout",
     "output_type": "stream",
     "text": [
      "['Ducati', 'Honda', 'Kawasaki']\n",
      "Italika\n"
     ]
    }
   ],
   "source": [
    "last_element = motorcycles.pop()\n",
    "print(motorcycles)\n",
    "print(last_element)"
   ]
  },
  {
   "cell_type": "code",
   "execution_count": 33,
   "id": "c117a121-d55d-4bd6-836c-b9a256190c54",
   "metadata": {},
   "outputs": [
    {
     "name": "stdout",
     "output_type": "stream",
     "text": [
      "['Honda', 'Kawasaki']\n"
     ]
    }
   ],
   "source": [
    "del motorcycles[0]\n",
    "print(motorcycles)"
   ]
  },
  {
   "cell_type": "code",
   "execution_count": 34,
   "id": "6fe7d4c7-b6c0-4742-9b0e-251c76cb43c9",
   "metadata": {},
   "outputs": [
    {
     "data": {
      "text/plain": [
       "'Honda'"
      ]
     },
     "execution_count": 34,
     "metadata": {},
     "output_type": "execute_result"
    }
   ],
   "source": [
    "del motorcycles[1]\n",
    "motorcycles.pop()"
   ]
  },
  {
   "cell_type": "code",
   "execution_count": 36,
   "id": "0fb7f163-b57d-40e3-9aae-36c413d71ef3",
   "metadata": {},
   "outputs": [
    {
     "name": "stdout",
     "output_type": "stream",
     "text": [
      "['Ducati', 'Honda', 'Kawasaki']\n",
      "['Ducati', 'Kawasaki']\n"
     ]
    }
   ],
   "source": [
    "motorcycles.remove(\"Italika\")\n",
    "print(motorcycles)\n",
    "motorcycles.remove(\"Honda\")\n",
    "print(motorcycles)"
   ]
  },
  {
   "cell_type": "code",
   "execution_count": null,
   "id": "592b2f75-c1e4-4089-be16-bc787412df8d",
   "metadata": {},
   "outputs": [],
   "source": []
  }
 ],
 "metadata": {
  "kernelspec": {
   "display_name": "Python 3 (ipykernel)",
   "language": "python",
   "name": "python3"
  },
  "language_info": {
   "codemirror_mode": {
    "name": "ipython",
    "version": 3
   },
   "file_extension": ".py",
   "mimetype": "text/x-python",
   "name": "python",
   "nbconvert_exporter": "python",
   "pygments_lexer": "ipython3",
   "version": "3.12.2"
  }
 },
 "nbformat": 4,
 "nbformat_minor": 5
}
