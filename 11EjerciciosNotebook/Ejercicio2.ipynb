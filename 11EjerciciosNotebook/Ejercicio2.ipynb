{
 "cells": [
  {
   "cell_type": "code",
   "execution_count": null,
   "id": "5131cff5-546b-410f-84d6-cb5ebc23c505",
   "metadata": {},
   "outputs": [],
   "source": [
    "loop = 1\n",
    "\n",
    "while (loop < 10):\n",
    "\tsustantivo = input(\"Ingrese un sustantivo: \")\n",
    "\tp_sustantivo = input(\"Ingrese un sustantivo plural: \")\n",
    "\tsustantivo2 = input(\"Ingrese el segundo sustantivo: \")\n",
    "\tp_sustantivo2 = input(\"Ingrese el segundo sustantivo plural: \")\n",
    "\tlugar = input(\"Ingrese el lugar: \")\n",
    "\tadjetivo = input(\"Ingrese el adjetivo: \")\n",
    "\tsustantivo3 = input(\"Ingrese el tercer sustantivo: \")\n",
    "\n",
    "print (\"Sé amable con tu\", sustantivo, \"- patas\", p_sustantivo)\n",
    "print (\"Porque un pato puede ser de alguien\", sustantivo2,\",\")\n",
    "print (\"Sé amable con tu\",p_sustantivo,\"en\",lugar)\n",
    "print (\"Donde siempre hace buen tiempo\",adjetivo,\".\")\n",
    "print (\"Puedes pensar que este es el\",sustantivo3,\",\")\n",
    "print (\"Bueno, lo es\")\n",
    "\n",
    "loop = loop + 1"
   ]
  }
 ],
 "metadata": {
  "kernelspec": {
   "display_name": "Python 3 (ipykernel)",
   "language": "python",
   "name": "python3"
  },
  "language_info": {
   "codemirror_mode": {
    "name": "ipython",
    "version": 3
   },
   "file_extension": ".py",
   "mimetype": "text/x-python",
   "name": "python",
   "nbconvert_exporter": "python",
   "pygments_lexer": "ipython3",
   "version": "3.12.2"
  }
 },
 "nbformat": 4,
 "nbformat_minor": 5
}
