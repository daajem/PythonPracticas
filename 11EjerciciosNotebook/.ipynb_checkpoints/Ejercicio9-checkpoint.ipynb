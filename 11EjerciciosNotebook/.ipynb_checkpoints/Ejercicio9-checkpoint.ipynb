{
 "cells": [
  {
   "cell_type": "code",
   "execution_count": null,
   "id": "5131cff5-546b-410f-84d6-cb5ebc23c505",
   "metadata": {},
   "outputs": [],
   "source": [
    "def calculoTip(total, porcentaje):\n",
    "    cTotal = total * (porcentaje / 100)\n",
    "    return cTotal\n",
    "\n",
    "total = float(input(\"Ingresar el total de la cuenta: \"))\n",
    "porcentaje = float(input(\"Ingresa el porcentaje de propina que deseas dar: \"))\n",
    "print(f\"La propina a pagar es: ${calculoTip(total, porcentaje):.2f}\")"
   ]
  }
 ],
 "metadata": {
  "kernelspec": {
   "display_name": "Python 3 (ipykernel)",
   "language": "python",
   "name": "python3"
  },
  "language_info": {
   "codemirror_mode": {
    "name": "ipython",
    "version": 3
   },
   "file_extension": ".py",
   "mimetype": "text/x-python",
   "name": "python",
   "nbconvert_exporter": "python",
   "pygments_lexer": "ipython3",
   "version": "3.12.2"
  }
 },
 "nbformat": 4,
 "nbformat_minor": 5
}
