{
 "cells": [
  {
   "cell_type": "code",
   "execution_count": null,
   "id": "5131cff5-546b-410f-84d6-cb5ebc23c505",
   "metadata": {},
   "outputs": [],
   "source": [
    "def odd_or_even():\n",
    "    \n",
    "    print(\"Bienvenido!, Al juego  de Impar o Par\")\n",
    "\n",
    "    while True:\n",
    "        \n",
    "        number = input(\"Por favor de ingresar de 1 a 1000:\")\n",
    "\n",
    "        \n",
    "        if number.lower() == 'salir':\n",
    "            print(\"Gracias por jugar\")\n",
    "            break\n",
    "\n",
    "        \n",
    "        if not number.isdigit():\n",
    "            print(\"Numero no valido\")\n",
    "            continue\n",
    "\n",
    "        \n",
    "        number = int(number)\n",
    "\n",
    "        \n",
    "        if number % 2 == 0:\n",
    "            print(f\"{number} Numnero par\")\n",
    "        else:\n",
    "            print(f\"{number} Numero impar\")\n",
    "\n",
    "odd_or_even()"
   ]
  }
 ],
 "metadata": {
  "kernelspec": {
   "display_name": "Python 3 (ipykernel)",
   "language": "python",
   "name": "python3"
  },
  "language_info": {
   "codemirror_mode": {
    "name": "ipython",
    "version": 3
   },
   "file_extension": ".py",
   "mimetype": "text/x-python",
   "name": "python",
   "nbconvert_exporter": "python",
   "pygments_lexer": "ipython3",
   "version": "3.12.2"
  }
 },
 "nbformat": 4,
 "nbformat_minor": 5
}
