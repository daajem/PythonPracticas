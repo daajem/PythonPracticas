{
 "cells": [
  {
   "cell_type": "code",
   "execution_count": null,
   "id": "5131cff5-546b-410f-84d6-cb5ebc23c505",
   "metadata": {},
   "outputs": [],
   "source": [
    "\n",
    "\n",
    "import random\n",
    "\n",
    "def play_rps(user_choice):\n",
    "    options = [\"Piedra\", \"Papel\", \"Tijeras\"]\n",
    "    computadoraEscoge = random.choice(options)\n",
    "\n",
    "    if user_choice == computadoraEscoge:\n",
    "        return \"Empate\"\n",
    "    elif (user_choice == \"Piedra\" and computadoraEscoge == \"Tijeras\") or (user_choice == \"Papel\" and computadoraEscoge == \"piedra\") or (user_choice == \"tijeras\" and computadoraEscoge == \"papel\"):\n",
    "        return f\"Ganaste. La computadora escogio: {computadoraEscoge}.\"\n",
    "    else:\n",
    "        return f\"Perdiste. La computadora escogio: {computadoraEscoge}.\"\n",
    "\n",
    "user_input = input(\"Elige piedra, papel o tijeras: \").lower()\n",
    "print(play_rps(user_input))"
   ]
  }
 ],
 "metadata": {
  "kernelspec": {
   "display_name": "Python 3 (ipykernel)",
   "language": "python",
   "name": "python3"
  },
  "language_info": {
   "codemirror_mode": {
    "name": "ipython",
    "version": 3
   },
   "file_extension": ".py",
   "mimetype": "text/x-python",
   "name": "python",
   "nbconvert_exporter": "python",
   "pygments_lexer": "ipython3",
   "version": "3.12.2"
  }
 },
 "nbformat": 4,
 "nbformat_minor": 5
}
