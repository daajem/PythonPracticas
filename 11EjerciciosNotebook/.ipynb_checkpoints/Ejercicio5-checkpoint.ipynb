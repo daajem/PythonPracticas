{
 "cells": [
  {
   "cell_type": "code",
   "execution_count": null,
   "id": "5131cff5-546b-410f-84d6-cb5ebc23c505",
   "metadata": {},
   "outputs": [],
   "source": [
    "def generadorAcronimo(frase):\n",
    "    palabras = frase.split()\n",
    "    acronimo = \"\".join(palabra[0].upper() for palabra in palabras)\n",
    "    return acronimo\n",
    "\n",
    "palabra_completa = input(\"Ingresa la frase\")\n",
    "print(f\"El acrónimo es: {generadorAcronimo(palabra_completa)}\")"
   ]
  }
 ],
 "metadata": {
  "kernelspec": {
   "display_name": "Python 3 (ipykernel)",
   "language": "python",
   "name": "python3"
  },
  "language_info": {
   "codemirror_mode": {
    "name": "ipython",
    "version": 3
   },
   "file_extension": ".py",
   "mimetype": "text/x-python",
   "name": "python",
   "nbconvert_exporter": "python",
   "pygments_lexer": "ipython3",
   "version": "3.12.2"
  }
 },
 "nbformat": 4,
 "nbformat_minor": 5
}
