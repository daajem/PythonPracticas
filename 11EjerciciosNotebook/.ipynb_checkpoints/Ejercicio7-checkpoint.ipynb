{
 "cells": [
  {
   "cell_type": "code",
   "execution_count": null,
   "id": "5131cff5-546b-410f-84d6-cb5ebc23c505",
   "metadata": {},
   "outputs": [],
   "source": [
    "import random\n",
    "\n",
    "def guess_the_number():\n",
    "    numberSecret = random.randint(1, 100)\n",
    "    intentos = 0\n",
    "\n",
    "    while True:\n",
    "        user_guess = int(input(\"Adivina el número (entre 1 y 100): \"))\n",
    "        attempts += 1\n",
    "\n",
    "        if user_guess == numberSecret:\n",
    "            print(f\"Correcto El número era {numberSecret}. Necesitaste {intentos} intentos.\")\n",
    "            break\n",
    "        elif user_guess < numberSecret:\n",
    "            print(\"Intenta con un número más grande.\")\n",
    "        else:\n",
    "            print(\"Intenta con un número más pequeño.\")\n",
    "\n",
    "guess_the_number()"
   ]
  }
 ],
 "metadata": {
  "kernelspec": {
   "display_name": "Python 3 (ipykernel)",
   "language": "python",
   "name": "python3"
  },
  "language_info": {
   "codemirror_mode": {
    "name": "ipython",
    "version": 3
   },
   "file_extension": ".py",
   "mimetype": "text/x-python",
   "name": "python",
   "nbconvert_exporter": "python",
   "pygments_lexer": "ipython3",
   "version": "3.12.2"
  }
 },
 "nbformat": 4,
 "nbformat_minor": 5
}
