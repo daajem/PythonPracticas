{
 "cells": [
  {
   "cell_type": "code",
   "execution_count": null,
   "id": "5131cff5-546b-410f-84d6-cb5ebc23c505",
   "metadata": {},
   "outputs": [],
   "source": [
    "def emailRebanado():\n",
    "    correo = input(\"Ingresa tu dirección de correo electrónico: \").strip()\n",
    "    usuario = correo[:correo.index('@')]\n",
    "    dominio = correo[correo.index('@') + 1:]\n",
    "    print(f\"Nombre de usuario es: {usuario} \\n Y el dominio es: {dominio}\")\n",
    "\n",
    "emailRebanado()"
   ]
  }
 ],
 "metadata": {
  "kernelspec": {
   "display_name": "Python 3 (ipykernel)",
   "language": "python",
   "name": "python3"
  },
  "language_info": {
   "codemirror_mode": {
    "name": "ipython",
    "version": 3
   },
   "file_extension": ".py",
   "mimetype": "text/x-python",
   "name": "python",
   "nbconvert_exporter": "python",
   "pygments_lexer": "ipython3",
   "version": "3.12.2"
  }
 },
 "nbformat": 4,
 "nbformat_minor": 5
}
