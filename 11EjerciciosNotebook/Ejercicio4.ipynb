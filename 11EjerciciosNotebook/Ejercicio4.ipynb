{
 "cells": [
  {
   "cell_type": "code",
   "execution_count": null,
   "id": "5131cff5-546b-410f-84d6-cb5ebc23c505",
   "metadata": {},
   "outputs": [],
   "source": [
    "def solicitar_informacion(pregunta):\n",
    "    while True:\n",
    "        respuesta = input(pregunta)\n",
    "        if respuesta.strip():  \n",
    "            return respuesta.strip()\n",
    "        else:\n",
    "            print(\"Por favor, ingresa una respuesta válida.\")\n",
    "\n",
    "nombre = solicitar_informacion(\"¿Cuál es tu nombre? \")\n",
    "fecha_nacimiento = solicitar_informacion(\"¿Cuál es tu fecha de nacimiento? (Formato: DD/MM/AAAA) \")\n",
    "direccion = solicitar_informacion(\"¿Cuál es tu dirección? \")\n",
    "metas_personales = solicitar_informacion(\"¿Cuáles son tus metas personales? \")\n",
    "\n",
    "print(\"\\nResumen de la información ingresada:\")\n",
    "print(f\"- Nombre: {nombre}\")\n",
    "print(f\"- Fecha de nacimiento: {fecha_nacimiento}\")\n",
    "print(f\"- Dirección: {direccion}\")\n",
    "print(f\"- Metas personales: {metas_personales}\")"
   ]
  }
 ],
 "metadata": {
  "kernelspec": {
   "display_name": "Python 3 (ipykernel)",
   "language": "python",
   "name": "python3"
  },
  "language_info": {
   "codemirror_mode": {
    "name": "ipython",
    "version": 3
   },
   "file_extension": ".py",
   "mimetype": "text/x-python",
   "name": "python",
   "nbconvert_exporter": "python",
   "pygments_lexer": "ipython3",
   "version": "3.12.2"
  }
 },
 "nbformat": 4,
 "nbformat_minor": 5
}
